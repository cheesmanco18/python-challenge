{
 "cells": [
  {
   "cell_type": "code",
   "execution_count": 2,
   "metadata": {},
   "outputs": [],
   "source": [
    "#import Path and csv from the pathlib library\n",
    "from pathlib import Path"
   ]
  },
  {
   "cell_type": "code",
   "execution_count": 3,
   "metadata": {},
   "outputs": [],
   "source": [
    "#import CSV\n",
    "import csv"
   ]
  },
  {
   "cell_type": "code",
   "execution_count": 4,
   "metadata": {},
   "outputs": [
    {
     "name": "stdout",
     "output_type": "stream",
     "text": [
      "Current Working Directory: C:\\Users\\chees\\python-challenge\\PyBank\n"
     ]
    }
   ],
   "source": [
    "#check the current directory\n",
    "print(f\"Current Working Directory: {Path.cwd()}\")"
   ]
  },
  {
   "cell_type": "code",
   "execution_count": 5,
   "metadata": {},
   "outputs": [],
   "source": [
    "#set the import file path\n",
    "csvpath = Path(\"../../Challenges/Starter_Code/PyBank/Resources/budget_data.csv\")"
   ]
  },
  {
   "cell_type": "code",
   "execution_count": 63,
   "metadata": {},
   "outputs": [
    {
     "name": "stdout",
     "output_type": "stream",
     "text": [
      "Financial Analysis\n",
      "---------------------------------------------------------\n",
      "Total Months: 86\n",
      "Total: $38382578\n",
      "Average Change: $-2315.12\n",
      "Greatest Increase in Profits: Feb-2012 ($1926159)\n",
      "Greatest Decrease in Profits: Sep-2013 ($-2196167)\n"
     ]
    }
   ],
   "source": [
    "#define the variables\n",
    "total_months = 0\n",
    "total_profit = 0\n",
    "previous_price = 0\n",
    "change = 0\n",
    "change_sum = 0\n",
    "count = 0\n",
    "greatest_increase = [\"\", 0]\n",
    "greatest_decrease = [\"\", 0]\n",
    "\n",
    "#read in the csv file and perform the analysis\n",
    "with open(csvpath, \"r\") as csvfile:\n",
    "    csvreader = csv.reader(csvfile)\n",
    "    csv_header = next(csvreader)\n",
    "   \n",
    "    for row in csvreader:\n",
    "        date = row[0]\n",
    "        profit = int(row[1])\n",
    "        total_months = total_months + 1\n",
    "        total_profit = total_profit + profit\n",
    "\n",
    "        \n",
    "        if previous_price != 0:\n",
    "            change = profit - previous_price\n",
    "            change_sum = change_sum + change\n",
    "            count += 1\n",
    "        \n",
    "         \n",
    "        previous_price = profit\n",
    "        \n",
    "        if change > greatest_increase[1]:\n",
    "            greatest_increase[0] = date\n",
    "            greatest_increase[1] = change\n",
    "        if change < greatest_decrease[1]:\n",
    "            greatest_decrease[0] = date\n",
    "            greatest_decrease[1] = change\n",
    "        \n",
    "    average_change = round((change_sum / count),2)\n",
    "\n",
    "    \n",
    "    \n",
    "    print(\"Financial Analysis\")\n",
    "    print(\"---------------------------------------------------------\")\n",
    "    print(f\"Total Months: {total_months}\")\n",
    "    print(f\"Total: ${total_profit}\")\n",
    "    print(f\"Average Change: ${average_change}\")\n",
    "    print(f\"Greatest Increase in Profits: {greatest_increase[0]} (${greatest_increase[1]})\")\n",
    "    print(f\"Greatest Decrease in Profits: {greatest_decrease[0]} (${greatest_decrease[1]})\")"
   ]
  },
  {
   "cell_type": "code",
   "execution_count": 64,
   "metadata": {},
   "outputs": [],
   "source": [
    "#Export to text file\n",
    "output_path = Path(\"analysis.txt\")\n",
    "with open(output_path, 'w') as file:\n",
    "    file.write(\"Financial Analysis\\n\")\n",
    "    file.write(\"---------------------------------------------\\n\")\n",
    "    file.write(f\"Total Months: {total_months}\\n\")\n",
    "    file.write(f\"Total: ${total_profit}\\n\")\n",
    "    file.write(f\"Average Change: ${average_change}\\n\")\n",
    "    file.write(f\"Greatest Increase in Profits: {greatest_increase[0]} (${greatest_increase[1]})\\n\")\n",
    "    file.write(f\"Greatest Decrease in Profits: {greatest_decrease[0]} (${greatest_decrease[1]})\")\n",
    "    "
   ]
  },
  {
   "cell_type": "code",
   "execution_count": null,
   "metadata": {},
   "outputs": [],
   "source": []
  }
 ],
 "metadata": {
  "kernelspec": {
   "display_name": "Python 3 (ipykernel)",
   "language": "python",
   "name": "python3"
  },
  "language_info": {
   "codemirror_mode": {
    "name": "ipython",
    "version": 3
   },
   "file_extension": ".py",
   "mimetype": "text/x-python",
   "name": "python",
   "nbconvert_exporter": "python",
   "pygments_lexer": "ipython3",
   "version": "3.9.13"
  }
 },
 "nbformat": 4,
 "nbformat_minor": 4
}
